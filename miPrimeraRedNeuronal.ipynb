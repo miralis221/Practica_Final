{
  "nbformat": 4,
  "nbformat_minor": 0,
  "metadata": {
    "colab": {
      "name": "miPrimeraRedNeuronal.ipynb",
      "provenance": [],
      "authorship_tag": "ABX9TyOJfBV5PxTpAKTQ+xQZk3Z7",
      "include_colab_link": true
    },
    "kernelspec": {
      "name": "python3",
      "display_name": "Python 3"
    },
    "language_info": {
      "name": "python"
    }
  },
  "cells": [
    {
      "cell_type": "markdown",
      "metadata": {
        "id": "view-in-github",
        "colab_type": "text"
      },
      "source": [
        "<a href=\"https://colab.research.google.com/github/miralis221/Practica_Final/blob/main/miPrimeraRedNeuronal.ipynb\" target=\"_parent\"><img src=\"https://colab.research.google.com/assets/colab-badge.svg\" alt=\"Open In Colab\"/></a>"
      ]
    },
    {
      "cell_type": "code",
      "metadata": {
        "id": "JMMk-Re6EmwP"
      },
      "source": [
        "import tensorflow as tf\n",
        "import numpy as np\n"
      ],
      "execution_count": 4,
      "outputs": []
    },
    {
      "cell_type": "code",
      "metadata": {
        "id": "Lsqt4piyE0tt"
      },
      "source": [
        "celsius = np.array([-40,-10,0,8,15,22,38],dtype = float)\n",
        "farenheit = np.array([-40,14,32,46,59,72,100],dtype=float)"
      ],
      "execution_count": 8,
      "outputs": []
    },
    {
      "cell_type": "code",
      "metadata": {
        "id": "txMdWHG_FOOp"
      },
      "source": [
        " #capa = tf.keras.layers.Dense(units=1, input_shape=[1])\n",
        " #modelo = tf.keras.Sequential([capa])\n",
        "\n",
        " oculta1 = tf.keras.layers.Dense(units=3, input_shape=[1])\n",
        " oculta2 = tf.keras.layers.Dense(units=3)\n",
        " salida = tf.keras.layers.Dense(units=1)\n",
        " modelo = tf.keras.Sequential([oculta1,oculta2,salida])"
      ],
      "execution_count": 20,
      "outputs": []
    },
    {
      "cell_type": "code",
      "metadata": {
        "id": "Z-a4evRwFyia"
      },
      "source": [
        "modelo.compile(\n",
        "    optimizer = tf.keras.optimizers.Adam(0.1),\n",
        "    loss='mean_squared_error'\n",
        ")"
      ],
      "execution_count": 21,
      "outputs": []
    },
    {
      "cell_type": "code",
      "metadata": {
        "colab": {
          "base_uri": "https://localhost:8080/"
        },
        "id": "RcyYbYc7GGSO",
        "outputId": "673515f7-d68e-4969-9a02-51c1e1e18d08"
      },
      "source": [
        "print(\"Comenzando entrenamiento...\")\n",
        "historial = modelo.fit(celsius,farenheit, epochs=1000, verbose=False)\n",
        "print(\"Modelo entrenado\")"
      ],
      "execution_count": 22,
      "outputs": [
        {
          "output_type": "stream",
          "text": [
            "Comenzando entrenamiento...\n",
            "Modelo entrenado\n"
          ],
          "name": "stdout"
        }
      ]
    },
    {
      "cell_type": "code",
      "metadata": {
        "colab": {
          "base_uri": "https://localhost:8080/",
          "height": 297
        },
        "id": "-RFaUhTfGYof",
        "outputId": "dd27004a-5e5e-4a91-8656-072e13988aa1"
      },
      "source": [
        "import matplotlib.pyplot as plt\n",
        "plt.xlabel(\"a Epoca\")\n",
        "plt.ylabel(\"Magnitud de perdida\")\n",
        "plt.plot(historial.history[\"loss\"])"
      ],
      "execution_count": 23,
      "outputs": [
        {
          "output_type": "execute_result",
          "data": {
            "text/plain": [
              "[<matplotlib.lines.Line2D at 0x7fe927bbcd50>]"
            ]
          },
          "metadata": {
            "tags": []
          },
          "execution_count": 23
        },
        {
          "output_type": "display_data",
          "data": {
            "image/png": "[encoded data removed]",
            "text/plain": [
              "<Figure size 432x288 with 1 Axes>"
            ]
          },
          "metadata": {
            "tags": [],
            "needs_background": "light"
          }
        }
      ]
    },
    {
      "cell_type": "code",
      "metadata": {
        "colab": {
          "base_uri": "https://localhost:8080/"
        },
        "id": "BlrzhE42GYlF",
        "outputId": "ac3bce87-c5f7-476a-8efd-70b1f5382b14"
      },
      "source": [
        "print(\"hagamos una prediccion\")\n",
        "resultado = modelo.predict([100.0])\n",
        "print(\"El resultado es \" +str(resultado)+ \"fahrenheit\")"
      ],
      "execution_count": 24,
      "outputs": [
        {
          "output_type": "stream",
          "text": [
            "hagamos una prediccion\n",
            "El resultado es [[211.74747]]fahrenheit\n"
          ],
          "name": "stdout"
        }
      ]
    },
    {
      "cell_type": "code",
      "metadata": {
        "colab": {
          "base_uri": "https://localhost:8080/"
        },
        "id": "5swKQUg6HnEM",
        "outputId": "3d4b670f-c5bc-4f31-ce47-d12ce3b677ea"
      },
      "source": [
        "print(\"Variables internas del modelo\")\n",
        "#print(capa.get_weights())\n",
        "print(oculta1.get_weights())\n",
        "print(oculta2.get_weights())\n",
        "print(salida.get_weights())"
      ],
      "execution_count": 27,
      "outputs": [
        {
          "output_type": "stream",
          "text": [
            "Variables internas del modelo\n",
            "[array([[-0.8067863 , -0.20900477, -0.49395925]], dtype=float32), array([-3.7930033, -2.9167545,  1.9927284], dtype=float32)]\n",
            "[array([[-0.9260849 , -0.8644301 ,  1.3170731 ],\n",
            "       [-1.7806532 , -0.524897  ,  0.1280678 ],\n",
            "       [ 0.46494928,  0.69777995, -0.8179538 ]], dtype=float32), array([ 4.192572 ,  2.5095034, -1.7284777], dtype=float32)]\n",
            "[array([[ 1.7146993 ],\n",
            "       [ 0.40771833],\n",
            "       [-0.12245048]], dtype=float32), array([3.6261795], dtype=float32)]\n"
          ],
          "name": "stdout"
        }
      ]
    }
  ]
}